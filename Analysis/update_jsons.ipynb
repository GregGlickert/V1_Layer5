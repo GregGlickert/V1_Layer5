{
 "cells": [
  {
   "cell_type": "markdown",
   "metadata": {},
   "source": [
    "## This notebook reads in a synaptic report and update the synapses folder used by the simulation to have the same parameters as that of the synaptic report. This is useful when making you want to go back and run and run a similar simulation without having to double check and update all the json files."
   ]
  },
  {
   "cell_type": "code",
   "execution_count": 2,
   "metadata": {},
   "outputs": [
    {
     "name": "stdout",
     "output_type": "stream",
     "text": [
      "Updated FSI2PN.json\n",
      "Updated LTS2LTS.json\n",
      "Updated Base2LTS.json\n",
      "Updated FSI2LTS.json\n",
      "Updated PN2FSI.json\n",
      "Updated Thal2PN.json\n",
      "Updated PN2PN.json\n",
      "Updated LTS2PN.json\n",
      "Updated LTS2FSI.json\n",
      "Updated PN2LTS.json\n",
      "Updated FSI2FSI.json\n",
      "Updated Base2FSI.json\n",
      "All files updated.\n"
     ]
    }
   ],
   "source": [
    "import json\n",
    "import os\n",
    "\n",
    "# Path to the master JSON file\n",
    "master_json_path = '/home/gjgpb9/L2-3-Model/Run-Storage/LTS2PNR4/block1/baseline/synaptic_report.json'\n",
    "\n",
    "# Path to the directory containing the JSON files to be updated\n",
    "json_directory = '/home/gjgpb9/L2-3-Model/Analysis/synapses_STP'\n",
    "\n",
    "# Load the master JSON file\n",
    "with open(master_json_path, 'r') as master_file:\n",
    "    master_data = json.load(master_file)\n",
    "\n",
    "# Iterate through each entry in the master JSON file\n",
    "for entry in master_data:\n",
    "    filename = entry['filename']\n",
    "    data_to_update = entry['data']\n",
    "    \n",
    "    # Path to the individual JSON file to be updated\n",
    "    json_file_path = os.path.join(json_directory, filename)\n",
    "    \n",
    "    # Check if the file exists\n",
    "    if os.path.exists(json_file_path):\n",
    "        # Load the individual JSON file\n",
    "        with open(json_file_path, 'r') as json_file:\n",
    "            file_data = json.load(json_file)\n",
    "        \n",
    "        # Update the file data with the values from the master JSON\n",
    "        file_data.update(data_to_update)\n",
    "        \n",
    "        # Write the updated data back to the JSON file\n",
    "        with open(json_file_path, 'w') as json_file:\n",
    "            json.dump(file_data, json_file, indent=4)\n",
    "        \n",
    "        print(f\"Updated {filename}\")\n",
    "    else:\n",
    "        print(f\"File {filename} does not exist in the directory\")\n",
    "\n",
    "print(\"All files updated.\")\n"
   ]
  }
 ],
 "metadata": {
  "kernelspec": {
   "display_name": "bmtk",
   "language": "python",
   "name": "python3"
  },
  "language_info": {
   "codemirror_mode": {
    "name": "ipython",
    "version": 3
   },
   "file_extension": ".py",
   "mimetype": "text/x-python",
   "name": "python",
   "nbconvert_exporter": "python",
   "pygments_lexer": "ipython3",
   "version": "3.8.18"
  }
 },
 "nbformat": 4,
 "nbformat_minor": 2
}
