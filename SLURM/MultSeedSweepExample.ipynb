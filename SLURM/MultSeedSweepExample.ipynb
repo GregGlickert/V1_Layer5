{
 "cells": [
  {
   "cell_type": "markdown",
   "metadata": {},
   "source": [
    "## Mult Seed Sweep Notes\n",
    "MultSeedSweep extends the original seedSweep. Some things could def be optimized, but this is a good proof of concept. Because the base functions are named the same, the SequentialBlockRunner in block.py does not need to change unless you want to specifically do a multSeedSweep. Mult SeedSweep is based on there being a base JSON file. For example, if you wanted to change CP2FSI but keep the ratio between it and CS2FSI, then CP2FSI can be the 'base' JSON that is sweeped from 1 - 2.5 and CS2FSI will update to stay at the same ratio. \n",
    "\n",
    "\n"
   ]
  },
  {
   "cell_type": "code",
   "execution_count": 11,
   "metadata": {},
   "outputs": [],
   "source": [
    "from multSeedSweep import multSeedSweep\n",
    "\n",
    "param_name = 'initW'\n",
    "base_json_path = 'MultTest1.json'\n",
    "\n",
    "syn_dict_list = []\n",
    "syn_dict_list.append({'json_file_path': 'MultTest2.json', 'ratio': 2.3})\n",
    "\n",
    "\n",
    "json_editor = multSeedSweep('MultTest1.json',param_name,syn_dict_list,base_ratio=4.6)    "
   ]
  },
  {
   "cell_type": "code",
   "execution_count": 12,
   "metadata": {},
   "outputs": [
    {
     "name": "stdout",
     "output_type": "stream",
     "text": [
      "JSON file 'MultTest1.json' modified successfully with initW=3.\n"
     ]
    }
   ],
   "source": [
    "json_editor.edit_json(3)\n"
   ]
  },
  {
   "cell_type": "code",
   "execution_count": 13,
   "metadata": {},
   "outputs": [
    {
     "name": "stdout",
     "output_type": "stream",
     "text": [
      "JSON file 'MultTest1.json' modified successfully with initW=1.\n",
      "JSON file 'MultTest2.json' modified successfully with initW=0.5.\n"
     ]
    }
   ],
   "source": [
    "json_editor.edit_all_jsons(1)"
   ]
  },
  {
   "cell_type": "code",
   "execution_count": 14,
   "metadata": {},
   "outputs": [
    {
     "name": "stdout",
     "output_type": "stream",
     "text": [
      "JSON file 'MultTest1.json' modified successfully with initW=4.\n",
      "JSON file 'MultTest2.json' modified successfully with initW=2.0.\n"
     ]
    }
   ],
   "source": [
    "json_editor.edit_all_jsons(4)"
   ]
  },
  {
   "cell_type": "markdown",
   "metadata": {},
   "source": [
    "## More Relevant Example\n",
    "multSeedSweep can be used with as many JSON files as wanted, so all CP2XXX syns can be scaled if wanted. The below example shows how one could set it up if the base JSON is the CS2CS.json"
   ]
  },
  {
   "cell_type": "code",
   "execution_count": 7,
   "metadata": {},
   "outputs": [],
   "source": [
    "import os\n",
    "pre_syn = 'CS'\n",
    "post_syns = ['CP','FSI','LTS'] \n",
    "ratios = [3,1,0.7] #example values that represent the current initWs\n",
    "param_name = 'initW'\n",
    "base_json_path = os.path.join('..','Network-Parameters','components','synaptic_models','synapses_no_STP')\n",
    "\n",
    "syn_dict_list = []\n",
    "for i,post_syn in enumerate(post_syns):\n",
    "    if(i==1): #CS2CS will be base\n",
    "        continue\n",
    "    json_file = ''.join([pre_syn,'2',post_syn,'.json'])\n",
    "    json_file_path = os.path.join(base_json_path,json_file)\n",
    "    #print(json_file_path)\n",
    "    syn_dict = {'json_file_path': json_file_path, 'ratio': ratios[i]}\n",
    "    #print(syn_dict)\n",
    "    syn_dict_list.append(syn_dict)\n",
    "base_json_file_path = os.path.join(base_json_path,'CS2CS.json')\n",
    "\n",
    "json_editor = multSeedSweep(base_json_file_path,param_name,syn_dict_list,base_ratio=2.3) \n",
    "\n",
    "#json_editor.edit_json(2) # this is saying to change CS2CS to 2 and everything else would be updated accordingly."
   ]
  }
 ],
 "metadata": {
  "kernelspec": {
   "display_name": "neural-modeling",
   "language": "python",
   "name": "python3"
  },
  "language_info": {
   "codemirror_mode": {
    "name": "ipython",
    "version": 3
   },
   "file_extension": ".py",
   "mimetype": "text/x-python",
   "name": "python",
   "nbconvert_exporter": "python",
   "pygments_lexer": "ipython3",
   "version": "3.8.19"
  }
 },
 "nbformat": 4,
 "nbformat_minor": 2
}
