{
 "cells": [
  {
   "cell_type": "code",
   "execution_count": 28,
   "metadata": {},
   "outputs": [],
   "source": [
    "\n",
    "def find_convergence(uni_connections, dist_num_cell_B, rec_connections=0):\n",
    "    \"\"\"\n",
    "    Calculates the probability of a given edge being created in a homogenous context from Cell Type A -> Cell Type B. Convergence is calculated by dividing the \n",
    "    total connections by the total amount of Cell Type B (both gotten from a distant dependent model). \n",
    "    uni_connections: number of unidirectional connections from Cell Type A -> Cell Type B\n",
    "    dist_num_cell_B: number of Cell Type B in the distant dependent model\n",
    "    rec_connections: number of reciprocal connections from the two cells(only applies if cells are of same type)\n",
    "    \"\"\"\n",
    "    total_connections = uni_connections + rec_connections\n",
    "    convergence = total_connections / dist_num_cell_B\n",
    "    return convergence\n",
    "def homo_edge_probability(convergence, homo_num_cell_A, connect_to_same_type=False):\n",
    "    \"\"\"\n",
    "    Calculates the probability of a given edge being created in a homogenous context from Cell Type A -> Cell Type B. The convergence is divided by the total number of Cell \n",
    "    Type A in the homogenous model to get the probability. If the connection is to a cell of the same type, then it accounts for not wanting a synapse to itself.\n",
    "    convergence: convergence of connections from Cell Type A -> Cell Type B\n",
    "    homo_num_Cell_A: number of Cell Type A in the homogenous model\n",
    "    connect_to_same_type: boolean for whether the two cells are of the same type.\n",
    "    \"\"\"\n",
    "    if connect_to_same_type:\n",
    "        probability = convergence / (homo_num_cell_A - 1)\n",
    "    else:\n",
    "        probability = convergence / homo_num_cell_A\n",
    "    return probability\n",
    "\n",
    "def homo_edge_probability_from_D(uni_connections, dist_num_cell_B, homo_num_cell_A, rec_connections=0, connect_to_same_type=False):\n",
    "    \"\"\"\n",
    "    Calculates the probability of a given edge being created in a homogenous context from Cell Type A -> Cell Type B. Convergence is first calculated by dividing the \n",
    "    total connections by the total amount of Cell Type B (both gotten from a distant dependent model). The convergence is then divided by the total number of Cell Type A in \n",
    "    the homogenous model to get the probability. If the connection is to a cell of the same type, then it accounts for not wanting a synapse to itself.\n",
    "    uni_connections: number of unidirectional connections from Cell Type A -> Cell Type B\n",
    "    dist_num_cell_B: number of Cell Type B in the distant dependent model\n",
    "    homo_num_Cell_A: number of Cell Type A in the homogenous model\n",
    "    rec_connections: number of reciprocal connections from the two cells(only applies if cells are of same type)\n",
    "    connect_to_same_type: boolean for whether the two cells are of the same type.\n",
    "    \"\"\"\n",
    "    convergence = find_convergence(uni_connections,dist_num_cell_B, rec_connections)\n",
    "    return homo_edge_probability(convergence, homo_num_cell_A, connect_to_same_type)        "
   ]
  },
  {
   "cell_type": "code",
   "execution_count": 29,
   "metadata": {},
   "outputs": [
    {
     "name": "stdout",
     "output_type": "stream",
     "text": [
      "0.16436458333333331\n"
     ]
    }
   ],
   "source": [
    "\n",
    "x = homo_edge_probability_from_D(uni_connections=31558, dist_num_cell_B=800, homo_num_cell_A=240)\n",
    "\n",
    "\n",
    "print(x)"
   ]
  },
  {
   "cell_type": "code",
   "execution_count": 30,
   "metadata": {},
   "outputs": [
    {
     "name": "stdout",
     "output_type": "stream",
     "text": [
      "0.16436458333333331\n"
     ]
    }
   ],
   "source": [
    "x = homo_edge_probability(convergence=39.4475, homo_num_cell_A=240)\n",
    "print(x)"
   ]
  },
  {
   "cell_type": "code",
   "execution_count": 31,
   "metadata": {},
   "outputs": [
    {
     "name": "stdout",
     "output_type": "stream",
     "text": [
      "0.08281382845711428\n"
     ]
    }
   ],
   "source": [
    "from homogenous_probabilities import homo_edge_probability_from_D\n",
    "\n",
    "x = homo_edge_probability_from_D(uni_connections=242197, dist_num_cell_B=800, homo_num_cell_A=4000, rec_connections=22741, connect_to_same_type=True)\n",
    "print(x)"
   ]
  },
  {
   "cell_type": "code",
   "execution_count": 9,
   "metadata": {},
   "outputs": [
    {
     "name": "stdout",
     "output_type": "stream",
     "text": [
      "CSV file containing parameters saved to: test.csv\n"
     ]
    }
   ],
   "source": [
    "import os\n",
    "import json\n",
    "import csv\n",
    "\n",
    "def extract_parameters_to_csv(folder_path, csv_file_path):\n",
    "    # Initialize a list to store all parameter dictionaries\n",
    "    all_parameters = []\n",
    "\n",
    "    # Walk through the folder and its subdirectories\n",
    "    for root, dirs, files in os.walk(folder_path):\n",
    "        for file in files:\n",
    "            if file.endswith('.json'):\n",
    "                json_file_path = os.path.join(root, file)\n",
    "                # Load JSON file and extract desired parameters\n",
    "                with open(json_file_path, 'r') as f:\n",
    "                    try:\n",
    "                        parameters = json.load(f)\n",
    "                        # Extract desired parameters\n",
    "                        extracted_params = {\n",
    "                            \"level_of_detail\": parameters.get(\"level_of_detail\", \"\"),\n",
    "                            \"initW\": parameters.get(\"initW\", \"\"),\n",
    "                            \"tau1\": parameters.get(\"tau1\", \"\"),\n",
    "                            \"tau2\": parameters.get(\"tau2\", \"\"),\n",
    "                            \"Use\": parameters.get(\"Use\", \"\"),\n",
    "                            \"Dep\": parameters.get(\"Dep\", \"\"),\n",
    "                            \"Fac\": parameters.get(\"Fac\", \"\")\n",
    "                        }\n",
    "                        all_parameters.append(extracted_params)\n",
    "                    except json.JSONDecodeError:\n",
    "                        print(f\"Error loading JSON file: {json_file_path}\")\n",
    "\n",
    "    # Define CSV fieldnames based on parameter keys\n",
    "    fieldnames = [\"level_of_detail\", \"initW\", \"tau1\", \"tau2\", \"Use\", \"Dep\", \"Fac\"]\n",
    "\n",
    "    # Write parameters to CSV file\n",
    "    with open(csv_file_path, 'w', newline='') as csvfile:\n",
    "        writer = csv.DictWriter(csvfile, fieldnames=fieldnames)\n",
    "        writer.writeheader()\n",
    "        for parameters in all_parameters:\n",
    "            writer.writerow(parameters)\n",
    "\n",
    "    print(f\"CSV file containing parameters saved to: {csv_file_path}\")\n",
    "\n",
    "# Example usage:\n",
    "folder_path = '/home/group/V1-Model-Greg-Khuram/Network-Parameters/components/synaptic_models/synapses_STP'\n",
    "csv_file_path = '/path/to/output.csv'\n",
    "extract_parameters_to_csv(folder_path, csv_file_path)\n",
    "\n"
   ]
  }
 ],
 "metadata": {
  "kernelspec": {
   "display_name": "neural-modeling",
   "language": "python",
   "name": "python3"
  },
  "language_info": {
   "codemirror_mode": {
    "name": "ipython",
    "version": 3
   },
   "file_extension": ".py",
   "mimetype": "text/x-python",
   "name": "python",
   "nbconvert_exporter": "python",
   "pygments_lexer": "ipython3",
   "version": "3.8.18"
  }
 },
 "nbformat": 4,
 "nbformat_minor": 2
}
